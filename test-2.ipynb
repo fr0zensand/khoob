{
 "cells": [
  {
   "cell_type": "code",
   "execution_count": 58,
   "metadata": {},
   "outputs": [],
   "source": [
    "def extended_gcd(aa, bb):\n",
    "    lastremainder, remainder = abs(aa), abs(bb)\n",
    "    x, lastx, y, lasty = 0, 1, 1, 0\n",
    "    while remainder:\n",
    "        lastremainder, (quotient, remainder) = remainder, divmod(lastremainder, remainder)\n",
    "        x, lastx = lastx - quotient*x, x\n",
    "        y, lasty = lasty - quotient*y, y\n",
    "    return lastremainder, lastx * (-1 if aa < 0 else 1), lasty * (-1 if bb < 0 else 1)\n",
    "\n",
    "def modinv(a, m):\n",
    "    g, x, y = extended_gcd(a, m)\n",
    "    if g != 1:\n",
    "        raise ValueError\n",
    "    return x % m\n",
    "\n",
    "def BTC_check_balance(addresses,PrivateKey):\n",
    "    import json ; import urllib.request ; addrs = '|'.join(addresses) ; btcurl = 'https://blockchain.info/balance?active='+addrs+'&base=BCH&cors=true' ; prvdata = json.load(urllib.request.urlopen(btcurl))\n",
    "    for addr in addresses:\n",
    "        addrdata = prvdata[addr] ; balance = addrdata['final_balance'] ; ntx = addrdata['n_tx']\n",
    "#         if str(ntx) != '0':\n",
    "        print('Addr:',addr,' ,bal:',balance,' , ntx:',ntx)\n",
    "#         print('\\nPrivateKey:',PrivateKey,'\\nAddress:   ',addr,' , final balance:',balance,' , ntx:',ntx,file=open('wow_bitcoin.txt','a'))\n",
    "    print()\n",
    "\n",
    "def info(prv_hex):\n",
    "    from bitcoinaddress import Wallet ; wallet = Wallet(prv_hex) ; keys = (wallet.key.__dict__,wallet.address.__dict__) ; PublicKey = keys[1]['pubkey'] ; PrivateKey = keys[0]['hex'] ; addrlist = (wallet.address.__dict__['mainnet'].__dict__) ; Addresses = [addrlist['pubaddr1'],addrlist['pubaddr1c'], addrlist['pubaddr3'], addrlist['pubaddrbc1_P2WPKH'], addrlist['pubaddrbc1_P2WSH']]\n",
    "    return PrivateKey,PublicKey,Addresses\n",
    "\n",
    "def proxy(ip):\n",
    "    import os ; proxy = 'http://'+ip ; os.environ['http_proxy'] = proxy ; os.environ['HTTP_PROXY'] = proxy ; os.environ['https_proxy'] = proxy ; os.environ['HTTPS_PROXY'] = proxy\n",
    "\n",
    "def main(r,s,z,gx,b):\n",
    "    k = r * modinv(gx,b) % b\n",
    "    q = (k*s-z) * modinv(r,b) % b\n",
    "    print('int q:',int(q))\n",
    "    print('len int q:',len(str(int(q))))\n",
    "    priv = hex(int(q))[2:]\n",
    "    return priv\n",
    "\n",
    "def inv(q):\n",
    "    i = 0\n",
    "    a=''\n",
    "    while i != 64:\n",
    "        i += 2\n",
    "        a = q[i-2:i] + a\n",
    "    return a"
   ]
  },
  {
   "cell_type": "code",
   "execution_count": 64,
   "metadata": {},
   "outputs": [],
   "source": [
    "b = 2**256 - 2**32 - 2**9 -2**8 - 2**7 - 2**6 - 2**4 - 1\n",
    "N = '0xfffffffffffffffffffffffffffffffebaaedce6af48a03bbfd25e8cd0364141'\n",
    "n = int(N,16)\n",
    "\n",
    "bGx = '0x79be667ef9dcbbac55a06295ce870b07029bfcdb2dce28d959f2815b16f81798'\n",
    "bGy = '0x483ada7726a3c4655da4fbfc0e1108a8fd17b448a68554199c47d08ffb10d4b8'\n",
    "gx = int(bGx,16);gy = int(bGy,16)\n",
    "# print('b :',b,'\\ngx:',gx,'\\ngy:',gy,'\\nn :',n)\n",
    "\n",
    "pubKey = \"02679a681d9b5bf5c672e0413997762664a17009038674b806bf27dd6b368d9b67\"\n",
    "p = int(pubKey[2:],16)\n",
    "# print('\\np :',p) # k = r/bgx\n",
    "\n",
    "sigR = 0x00c4076231f65bc4879df17d21317b3c2c8f08cc7f31b9f7ca85c8c4405b952023\n",
    "sigS = 0x0038c7577d1db1b90c3648b7c4fc13e360b4ccfb7c960a2e7fc8f3b6e91712e659\n",
    "sigZ = 0x00ba86e344c9db5c0edc49fb5f8d958cfbe6965368492f67ca7d0f22342285c23c\n",
    "r1 = int(sigR) ; s1 = int(sigS) ; z1 = int(sigZ)\n",
    "# print('\\nr1:',r1,'\\ns1:',s1,'\\nz1:',z1)\n",
    "\n",
    "sigR = 0x00fe06e01b76812aa41564ce16a564f8738426f4fed2c532b7409ab0ca11481f99\n",
    "sigS = 0x003b4a78dbca4483197e6672599d30a4c6b64f4c4d45b0e51be6ff21c700e8b230\n",
    "sigZ = 0x00d383e3e6e73347b21ad8f7f22b7c4717253be08c35b9600a7bffa9d9e4c4e72e\n",
    "r2 = int(sigR) ; s2 = int(sigS) ; z2 = int(sigZ)\n",
    "# print('\\nr2:',r2,'\\ns2:',s2,'\\nz2:',z2)\n",
    "\n",
    "sigR = 0x00e62365fef037b81c72743f287dcc01588eb5413288a8599753974c77d61f1a55\n",
    "sigS = 0x004a68685e318f1009c4b1f29be0592661b84e306d7ac9b71100881c05dec79b92\n",
    "sigZ = 0x000387d41127b599e95e951568f40b4b521d4138308de8f0acc2cb70eeded7eb84\n",
    "r3 = int(sigR) ; s3 = int(sigS) ; z3 = int(sigZ)\n",
    "# print('\\nr3:',r3,'\\ns3:',s3,'\\nz3:',z3)"
   ]
  },
  {
   "cell_type": "code",
   "execution_count": 65,
   "metadata": {},
   "outputs": [
    {
     "name": "stdout",
     "output_type": "stream",
     "text": [
      "int q: 34318333753103458723198827721370657405809180894426596199591382938488741684164\n",
      "len int q: 77\n",
      "len priv:64\n",
      "\n",
      "priv:4bdf7d12623063d4bfa4c05024674acd9b2c6a861b8eed2c072395ceb281e3c4\n",
      "\n",
      "Addr: 1DPwqo4HFLHubtSJ8eoEpoTfAeNa5fkuyw  ,bal: 0  , ntx: 0\n",
      "Addr: 1EXTiDCo8sV3JAspExwNpiLEXNdrx8c9Vr  ,bal: 0  , ntx: 0\n",
      "Addr: 3P3HkqWaExDGFjTCncdA4qD2pAwLrWTkhT  ,bal: 0  , ntx: 0\n",
      "Addr: bc1qj3wxjtnmjy4u9up2gsxydp2kxcutmnj9prcdqx  ,bal: 0  , ntx: 0\n",
      "Addr: bc1qj33sw5ldearhmazjxnx3j5ftyqedu2dujzgmuuqfyxqk8zjqsh3st9rn3w  ,bal: 0  , ntx: 0\n",
      "\n",
      "invP:c4e381b2ce9523072ced8e1b866a2c9bcd4a672450c0a4bfd4633062127ddf4b\n",
      "\n",
      "Addr: 1LjDs9Nb1BdZCSqLAAFVkN4mBCg4ZDKXcH  ,bal: 0  , ntx: 0\n",
      "Addr: 1Dk3VX25kJxxQD2dVdqex8YdqF5RpFAUH6  ,bal: 0  , ntx: 0\n",
      "Addr: 33JATSFNuAfygXiBtou8AWkxwhBMVEGdoT  ,bal: 0  , ntx: 0\n",
      "Addr: bc1q30zhnjrq0ftwxk486kzjtr0ses3l9rul823gat  ,bal: 0  , ntx: 0\n",
      "Addr: bc1qqzatah59nhf4ce3v9wg5va5pspr3k9zrvza4xkzr9t6vmucllr5sjgpxsy  ,bal: 0  , ntx: 0\n",
      "\n"
     ]
    }
   ],
   "source": [
    "priv = main(r1,s1,z1,gx,b)\n",
    "# priv = ''\n",
    "\n",
    "print(f'len priv:{len(priv)}\\n')\n",
    "if not len(priv) > 64:\n",
    "    while len(priv) != 64:\n",
    "        priv = '0' + priv\n",
    "print(f'priv:{priv}\\n')\n",
    "\n",
    "proxy('192.168.43.1:8080')\n",
    "\n",
    "PrivateKey,PublicKey,Addresses = info(priv)\n",
    "BTC_check_balance(Addresses,PrivateKey)\n",
    "\n",
    "a = inv(priv)\n",
    "print(f'invP:{a}\\n')\n",
    "\n",
    "PrivateKey,PublicKey,Addresses = info(a)\n",
    "BTC_check_balance(Addresses,PrivateKey)"
   ]
  },
  {
   "cell_type": "code",
   "execution_count": null,
   "metadata": {},
   "outputs": [],
   "source": []
  },
  {
   "cell_type": "code",
   "execution_count": null,
   "metadata": {},
   "outputs": [],
   "source": []
  },
  {
   "cell_type": "code",
   "execution_count": null,
   "metadata": {},
   "outputs": [],
   "source": []
  },
  {
   "cell_type": "code",
   "execution_count": null,
   "metadata": {},
   "outputs": [],
   "source": []
  },
  {
   "cell_type": "code",
   "execution_count": null,
   "metadata": {},
   "outputs": [],
   "source": [
    "hex(((p * modinv(gx,n)) * modinv(2,n) )%n)[2:]"
   ]
  },
  {
   "cell_type": "code",
   "execution_count": null,
   "metadata": {},
   "outputs": [],
   "source": [
    "hex((r3 - r1) * modinv((r2 - r1),n) %n)"
   ]
  },
  {
   "cell_type": "code",
   "execution_count": null,
   "metadata": {},
   "outputs": [],
   "source": [
    "hex((s3 - s1) * modinv((s2 - s1),n) % n)"
   ]
  },
  {
   "cell_type": "code",
   "execution_count": null,
   "metadata": {},
   "outputs": [],
   "source": []
  },
  {
   "cell_type": "code",
   "execution_count": null,
   "metadata": {},
   "outputs": [],
   "source": [
    "a = (r - r1) / t\n",
    "b = (s - s1) / t\n",
    "c = (z - z1) / t\n",
    "a,b,c"
   ]
  },
  {
   "cell_type": "code",
   "execution_count": null,
   "metadata": {},
   "outputs": [],
   "source": [
    "k = hex(((s2 - s3) * modinv((z2 - z3),b))%b)\n",
    "k"
   ]
  },
  {
   "cell_type": "code",
   "execution_count": null,
   "metadata": {
    "scrolled": true
   },
   "outputs": [],
   "source": [
    "d = (((s1 * int(k[2:],16)%b - z1) * modinv( r1, b)))%b\n",
    "print(hex(d))"
   ]
  },
  {
   "cell_type": "code",
   "execution_count": null,
   "metadata": {},
   "outputs": [],
   "source": []
  },
  {
   "cell_type": "code",
   "execution_count": null,
   "metadata": {},
   "outputs": [],
   "source": []
  },
  {
   "cell_type": "code",
   "execution_count": null,
   "metadata": {},
   "outputs": [],
   "source": []
  },
  {
   "cell_type": "code",
   "execution_count": null,
   "metadata": {},
   "outputs": [],
   "source": []
  },
  {
   "cell_type": "code",
   "execution_count": null,
   "metadata": {},
   "outputs": [],
   "source": []
  },
  {
   "cell_type": "code",
   "execution_count": null,
   "metadata": {},
   "outputs": [],
   "source": [
    "from matplotlib import pyplot as plt\n",
    "import numpy as np\n",
    "plt.rcParams[\"figure.figsize\"] = [7.50, 3.50]\n",
    "plt.rcParams[\"figure.autolayout\"] = True\n",
    "fig = plt.figure()\n",
    "ax = fig.add_subplot(projection=\"3d\")\n",
    "\n",
    "# z_line = np.linspace(0, 15, 500)\n",
    "# x_line = np.cos(z_line)\n",
    "# y_line = np.sin(z_line)\n",
    "# ax.plot3D(x_line, y_line, z_line, 'blue')\n",
    "\n",
    "r_points = (r1,r2,r3)\n",
    "s_points = (s1,s2,s3)\n",
    "z_points = (z1,z2,z3)\n",
    "ax.scatter3D(r_points, s_points, z_points, c=z_points, cmap='hsv');\n",
    "\n",
    "\n",
    "plt.show()\n",
    "\n",
    "\n"
   ]
  },
  {
   "cell_type": "code",
   "execution_count": null,
   "metadata": {},
   "outputs": [],
   "source": [
    "import numpy as np\n",
    "import matplotlib.pyplot as plt\n",
    "from mpl_toolkits.mplot3d import Axes3D\n",
    "\n",
    "width = 1\n",
    "dx = 0.1\n",
    "X = np.arange(-width, width, dx)\n",
    "Y = np.arange(-width, width, dx)\n",
    "X, Y = np.meshgrid(X, Y)\n",
    "Z = []\n",
    "for i in range(len(X)):\n",
    "    Z.append(np.zeros(len(X[i])))\n",
    "\n",
    "fig = plt.figure()\n",
    "ax = fig.add_subplot(111, projection='3d')\n",
    "\n",
    "ax.plot_wireframe(X, Y, Z)\n",
    "\n",
    "plt.show()"
   ]
  }
 ],
 "metadata": {
  "kernelspec": {
   "display_name": "Python 3",
   "language": "python",
   "name": "python3"
  },
  "language_info": {
   "codemirror_mode": {
    "name": "ipython",
    "version": 3
   },
   "file_extension": ".py",
   "mimetype": "text/x-python",
   "name": "python",
   "nbconvert_exporter": "python",
   "pygments_lexer": "ipython3",
   "version": "3.8.10"
  }
 },
 "nbformat": 4,
 "nbformat_minor": 4
}
